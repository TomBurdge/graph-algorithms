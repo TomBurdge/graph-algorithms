{
 "cells": [
  {
   "cell_type": "markdown",
   "id": "b4a59e02",
   "metadata": {},
   "source": [
    "# Graph Basics"
   ]
  },
  {
   "cell_type": "markdown",
   "id": "ba37a5ef",
   "metadata": {},
   "source": [
    "Nodes: points in a graph<br>\n",
    "Edges: connections between nodes (can be directed and undirected)"
   ]
  },
  {
   "cell_type": "markdown",
   "id": "bd69b976",
   "metadata": {},
   "source": [
    "Nodes that are immediately connected by an edge are neighbour nodes"
   ]
  },
  {
   "cell_type": "markdown",
   "id": "546d341a",
   "metadata": {},
   "source": [
    "With visualisation of nodes, will imagine circles and arrows.<br>\n",
    "But, typically in a programme, you will have an adjacency list; a dictionary in python:"
   ]
  },
  {
   "cell_type": "code",
   "execution_count": 1,
   "id": "8da81cab",
   "metadata": {},
   "outputs": [
    {
     "data": {
      "text/plain": [
       "{'a': ['b', 'c'], 'b': ['d'], 'c': ['e'], 'd': [], 'e': ['b'], 'f': ['d']}"
      ]
     },
     "execution_count": 1,
     "metadata": {},
     "output_type": "execute_result"
    }
   ],
   "source": [
    "{\n",
    "    'a': ['b','c'],\n",
    "    'b': ['d'],\n",
    "    'c': ['e'],\n",
    "    'd': [],\n",
    "    'e': ['b'],\n",
    "    'f': ['d']\n",
    "}"
   ]
  },
  {
   "cell_type": "markdown",
   "id": "9aee82ff",
   "metadata": {},
   "source": [
    "e has only one outgoing edge to b."
   ]
  },
  {
   "cell_type": "markdown",
   "id": "dabd7048",
   "metadata": {},
   "source": [
    "Nodes with no outgoing neighbours, such as d, should still appear as a key on the adjacency list."
   ]
  }
 ],
 "metadata": {
  "kernelspec": {
   "display_name": "Python 3 (ipykernel)",
   "language": "python",
   "name": "python3"
  },
  "language_info": {
   "codemirror_mode": {
    "name": "ipython",
    "version": 3
   },
   "file_extension": ".py",
   "mimetype": "text/x-python",
   "name": "python",
   "nbconvert_exporter": "python",
   "pygments_lexer": "ipython3",
   "version": "3.9.13"
  }
 },
 "nbformat": 4,
 "nbformat_minor": 5
}
